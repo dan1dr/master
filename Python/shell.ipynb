{
 "cells": [
  {
   "cell_type": "code",
   "execution_count": 1,
   "metadata": {},
   "outputs": [
    {
     "name": "stdout",
     "output_type": "stream",
     "text": [
      "Sunnight\r\n"
     ]
    }
   ],
   "source": [
    "!echo Sunday | sed ssdaysnights"
   ]
  },
  {
   "cell_type": "code",
   "execution_count": 3,
   "metadata": {},
   "outputs": [
    {
     "name": "stdout",
     "output_type": "stream",
     "text": [
      "Sunnight\r\n"
     ]
    }
   ],
   "source": [
    "!echo Sunday | sed 's/day/night/'"
   ]
  },
  {
   "cell_type": "code",
   "execution_count": 4,
   "metadata": {},
   "outputs": [
    {
     "name": "stdout",
     "output_type": "stream",
     "text": [
      "night.night\n"
     ]
    }
   ],
   "source": [
    "%%bash\n",
    "echo day.day | sed 's/day/night/g'"
   ]
  },
  {
   "cell_type": "code",
   "execution_count": 5,
   "metadata": {},
   "outputs": [
    {
     "name": "stdout",
     "output_type": "stream",
     "text": [
      "01_intro_to_notebook_complete.ipynb  10_tuplas_clean.ipynb\r\n",
      "02_flow_control_empty.ipynb\t     12_Dict_y_set_clean.ipynb\r\n",
      "03_functions_and_import_empty.ipynb  Finn.txt\r\n",
      "04_Scalar_Types_Empty.ipynb\t     hello.py\r\n",
      "05_shell_and_magic.ipynb\t     hello_world.py\r\n",
      "06.ipynb\t\t\t     Intro.ipynb\r\n",
      "07_working_with_files-clean.ipynb    numpy_playbackground.ipynb\r\n",
      "08_09_Lists_clean.ipynb\t\t     shell.ipynb\r\n"
     ]
    }
   ],
   "source": [
    "!ls"
   ]
  },
  {
   "cell_type": "code",
   "execution_count": 6,
   "metadata": {},
   "outputs": [],
   "source": [
    "!echo 'this is the that or that is this' > newfile.txt"
   ]
  },
  {
   "cell_type": "code",
   "execution_count": 7,
   "metadata": {},
   "outputs": [
    {
     "name": "stdout",
     "output_type": "stream",
     "text": [
      "01_intro_to_notebook_complete.ipynb  12_Dict_y_set_clean.ipynb\r\n",
      "02_flow_control_empty.ipynb\t     Finn.txt\r\n",
      "03_functions_and_import_empty.ipynb  hello.py\r\n",
      "04_Scalar_Types_Empty.ipynb\t     hello_world.py\r\n",
      "05_shell_and_magic.ipynb\t     Intro.ipynb\r\n",
      "06.ipynb\t\t\t     newfile.txt\r\n",
      "07_working_with_files-clean.ipynb    numpy_playbackground.ipynb\r\n",
      "08_09_Lists_clean.ipynb\t\t     shell.ipynb\r\n",
      "10_tuplas_clean.ipynb\r\n"
     ]
    }
   ],
   "source": [
    "!ls\n",
    "\n"
   ]
  },
  {
   "cell_type": "code",
   "execution_count": 8,
   "metadata": {},
   "outputs": [
    {
     "name": "stdout",
     "output_type": "stream",
     "text": [
      "THATis the that or that is this\r\n"
     ]
    }
   ],
   "source": [
    "!sed 's/this /THAT/g' newfile.txt"
   ]
  },
  {
   "cell_type": "code",
   "execution_count": 9,
   "metadata": {},
   "outputs": [
    {
     "name": "stdout",
     "output_type": "stream",
     "text": [
      "1\r\n",
      "2\r\n",
      "2\r\n",
      "3\r\n",
      "4\r\n",
      "5\r\n"
     ]
    }
   ],
   "source": [
    "!seq 5 | sed '2p'"
   ]
  },
  {
   "cell_type": "code",
   "execution_count": null,
   "metadata": {},
   "outputs": [],
   "source": []
  }
 ],
 "metadata": {
  "kernelspec": {
   "display_name": "Python 3",
   "language": "python",
   "name": "python3"
  },
  "language_info": {
   "codemirror_mode": {
    "name": "ipython",
    "version": 3
   },
   "file_extension": ".py",
   "mimetype": "text/x-python",
   "name": "python",
   "nbconvert_exporter": "python",
   "pygments_lexer": "ipython3",
   "version": "3.7.1"
  }
 },
 "nbformat": 4,
 "nbformat_minor": 2
}
