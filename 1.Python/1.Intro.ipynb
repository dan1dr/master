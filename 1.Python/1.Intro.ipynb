{
 "cells": [
  {
   "cell_type": "markdown",
   "metadata": {},
   "source": [
    "# Jupyter Notebook"
   ]
  },
  {
   "cell_type": "markdown",
   "metadata": {},
   "source": [
    "This is an interactive computational environment, in which you can run code, rich text, maths, plots and media. "
   ]
  },
  {
   "cell_type": "markdown",
   "metadata": {},
   "source": [
    "The localhost:8888 you see in the server is the default address, the server will have to be shut down manually (closing the browser doesn't work). Once the notebook is opened, the kernel is automatically started."
   ]
  },
  {
   "cell_type": "markdown",
   "metadata": {},
   "source": [
    "From images:"
   ]
  },
  {
   "cell_type": "markdown",
   "metadata": {},
   "source": [
    "<img src=https://sitiobigdata.com/wp-content/uploads/2018/10/importar-datos-en-python.png width=\"200\">"
   ]
  },
  {
   "cell_type": "markdown",
   "metadata": {},
   "source": [
    "To typical latex language:"
   ]
  },
  {
   "cell_type": "markdown",
   "metadata": {},
   "source": [
    "$$  \\int_{a}^{b} x^2 \\,dx $$ \n",
    "$$  \\sum_{n=1}^{\\infty} 2^{-n} = 1  $$"
   ]
  },
  {
   "cell_type": "markdown",
   "metadata": {},
   "source": [
    "# 1. Basics in Python"
   ]
  },
  {
   "cell_type": "markdown",
   "metadata": {},
   "source": [
    "So basically Python is an easy to learn, powerful programming language. With an efficient high-level data structures, is a strongly-typed language, this means that every object has a specific type or class.\n",
    "\n",
    "Python is an interpreted language, which can save you considerable time during program development because no compilation and linking is necessary.\n",
    "\n",
    "Python enables programs to be written compactly and readably. Programs written in Python are typically much shorter than equivalent C, C++, or Java programs, for several reasons:\n",
    "\n",
    "- the high-level data types allow you to express complex operations in a single statement;\n",
    "\n",
    "- statement grouping is done by indentation instead of beginning and ending brackets;\n",
    "\n",
    "- no variable or argument declarations are necessary.\n",
    "\n",
    "Last but not least, the language is named after the BBC show “Monty Python’s Flying Circus” and has nothing to do with reptiles, thanks.\n",
    "\n",
    "\n",
    "For more info visit https://docs.python.org/3/tutorial/index.html"
   ]
  },
  {
   "cell_type": "markdown",
   "metadata": {},
   "source": [
    "First of all, let's use print() to create your \"Hello World\"."
   ]
  },
  {
   "cell_type": "code",
   "execution_count": 19,
   "metadata": {},
   "outputs": [
    {
     "name": "stdout",
     "output_type": "stream",
     "text": [
      "Hello World\n"
     ]
    }
   ],
   "source": [
    "print(\"Hello World\")"
   ]
  },
  {
   "cell_type": "markdown",
   "metadata": {},
   "source": [
    "Congrats, you now know python. You're welcome."
   ]
  },
  {
   "cell_type": "markdown",
   "metadata": {},
   "source": [
    "Ok, but in case you may know a little bit more..."
   ]
  },
  {
   "cell_type": "markdown",
   "metadata": {},
   "source": [
    "#### Everything is an object "
   ]
  },
  {
   "cell_type": "markdown",
   "metadata": {},
   "source": [
    "Each object has an associated type, internal data and typically some atributes.\n",
    "\n",
    "Object references have no type associated with them $\\rightarrow$ type information is stored in the object itself.\n",
    "\n",
    "type() returns the type of an object"
   ]
  },
  {
   "cell_type": "markdown",
   "metadata": {},
   "source": [
    "## Scalar types\n",
    "- int = Signed integer with maximum value determined by the platform.\n",
    "- long = Arbitrary precision signed integer. Large int values are automatically converted to long.\n",
    "- float = Double-precision (64-bit) floating point number. Note there is no separate double type.\n",
    "- str = String type\n",
    "- bool = A True or False value\n",
    "- None = The Python “null” value (only one instance of the None object exists)\n"
   ]
  },
  {
   "cell_type": "code",
   "execution_count": 61,
   "metadata": {},
   "outputs": [],
   "source": [
    "a = 4\n",
    "type(a)"
   ]
  },
  {
   "cell_type": "code",
   "execution_count": 24,
   "metadata": {},
   "outputs": [],
   "source": [
    "a = 3\n",
    "b = []\n",
    "c = 3,14\n",
    "d = {1,2,3,4}\n",
    "e = \"ey\""
   ]
  },
  {
   "cell_type": "code",
   "execution_count": 9,
   "metadata": {},
   "outputs": [
    {
     "data": {
      "text/plain": [
       "int"
      ]
     },
     "execution_count": 9,
     "metadata": {},
     "output_type": "execute_result"
    }
   ],
   "source": [
    "type(a)"
   ]
  },
  {
   "cell_type": "code",
   "execution_count": 10,
   "metadata": {},
   "outputs": [
    {
     "data": {
      "text/plain": [
       "list"
      ]
     },
     "execution_count": 10,
     "metadata": {},
     "output_type": "execute_result"
    }
   ],
   "source": [
    "type(b)"
   ]
  },
  {
   "cell_type": "code",
   "execution_count": 11,
   "metadata": {},
   "outputs": [
    {
     "data": {
      "text/plain": [
       "tuple"
      ]
     },
     "execution_count": 11,
     "metadata": {},
     "output_type": "execute_result"
    }
   ],
   "source": [
    "type(c)"
   ]
  },
  {
   "cell_type": "code",
   "execution_count": 22,
   "metadata": {},
   "outputs": [
    {
     "data": {
      "text/plain": [
       "set"
      ]
     },
     "execution_count": 22,
     "metadata": {},
     "output_type": "execute_result"
    }
   ],
   "source": [
    "type(d)"
   ]
  },
  {
   "cell_type": "code",
   "execution_count": 25,
   "metadata": {},
   "outputs": [
    {
     "data": {
      "text/plain": [
       "str"
      ]
     },
     "execution_count": 25,
     "metadata": {},
     "output_type": "execute_result"
    }
   ],
   "source": [
    "type(e)"
   ]
  },
  {
   "cell_type": "markdown",
   "metadata": {},
   "source": [
    "### Use it as a calculator"
   ]
  },
  {
   "cell_type": "code",
   "execution_count": 65,
   "metadata": {},
   "outputs": [
    {
     "name": "stdout",
     "output_type": "stream",
     "text": [
      "6\n"
     ]
    }
   ],
   "source": [
    "a = 3\n",
    "b = 2\n",
    "c = a * b\n",
    "print(c)"
   ]
  },
  {
   "cell_type": "markdown",
   "metadata": {},
   "source": [
    "## Data structures"
   ]
  },
  {
   "cell_type": "markdown",
   "metadata": {},
   "source": [
    "- lists: one-dimensional, variable-length, mutable sequence of Python objects\n",
    " - creation: \n",
    "   - using square brackets [ ]\n",
    "   - by converting any sequence or iterator by invoking list()\n",
    "   - \\[ \\] = empty list\n",
    "\n",
    "- tuple: one-dimensional, fixed-length, immutable sequence of Python objects (The objects can be mutable)\n",
    " - creation: \n",
    "  - with a comma-separated sequence of values   \n",
    "  - by converting any sequence or iterator by invoking tuple()\n",
    "  - ( ) = empty tuple\n",
    "\n",
    "- dict: flexibly-sized collection of key-value pairs, where key and value are Python objects\n",
    " - creation: {}\n",
    "\n",
    "- set: unordered collection of unique elements (like dicts, but keys only, no values)\n",
    " - creation: {} "
   ]
  },
  {
   "cell_type": "markdown",
   "metadata": {},
   "source": [
    "With isinstance() we can check if an object is an instance of a particular type"
   ]
  },
  {
   "cell_type": "code",
   "execution_count": 17,
   "metadata": {},
   "outputs": [
    {
     "data": {
      "text/plain": [
       "True"
      ]
     },
     "execution_count": 17,
     "metadata": {},
     "output_type": "execute_result"
    }
   ],
   "source": [
    "isinstance(a,(int, dict))"
   ]
  },
  {
   "cell_type": "code",
   "execution_count": 18,
   "metadata": {},
   "outputs": [
    {
     "data": {
      "text/plain": [
       "False"
      ]
     },
     "execution_count": 18,
     "metadata": {},
     "output_type": "execute_result"
    }
   ],
   "source": [
    "isinstance(a,(list))"
   ]
  },
  {
   "cell_type": "code",
   "execution_count": 60,
   "metadata": {},
   "outputs": [],
   "source": [
    "# Comments in python start with #"
   ]
  },
  {
   "cell_type": "markdown",
   "metadata": {},
   "source": [
    "## Object attributes\n"
   ]
  },
  {
   "cell_type": "markdown",
   "metadata": {},
   "source": [
    "These can be:\n",
    "\n",
    "- Other python objects stored \"inside\" the object.\n",
    "- Methods, attached functions associated with an object which can have access to the object's internal data.\n",
    "\n",
    "They are accessed with the syntax object_name.attribute_name.\n",
    "\n",
    "The list of attributes depends on object type, with Autocomplete, hasattr() o dir() we can take a look.\n"
   ]
  },
  {
   "cell_type": "markdown",
   "metadata": {},
   "source": [
    "## Referencing an object"
   ]
  },
  {
   "cell_type": "markdown",
   "metadata": {},
   "source": [
    "When assigning a variable (or name) in Python, you are creating a reference to the object on the right hand side of the equals sign.\n",
    "![image.png](attachment:image.png)"
   ]
  },
  {
   "cell_type": "markdown",
   "metadata": {},
   "source": [
    "When passing objects as arguments to a function, you are only passing references; no copying occurs here. With .copy you copy the content of an object."
   ]
  },
  {
   "cell_type": "code",
   "execution_count": 49,
   "metadata": {},
   "outputs": [],
   "source": [
    "a = [4,5]"
   ]
  },
  {
   "cell_type": "code",
   "execution_count": 50,
   "metadata": {},
   "outputs": [],
   "source": [
    "b = a"
   ]
  },
  {
   "cell_type": "code",
   "execution_count": 51,
   "metadata": {},
   "outputs": [
    {
     "data": {
      "text/plain": [
       "[4, 5]"
      ]
     },
     "execution_count": 51,
     "metadata": {},
     "output_type": "execute_result"
    }
   ],
   "source": [
    "b"
   ]
  },
  {
   "cell_type": "code",
   "execution_count": 52,
   "metadata": {},
   "outputs": [],
   "source": [
    "b.append(6)"
   ]
  },
  {
   "cell_type": "code",
   "execution_count": 53,
   "metadata": {},
   "outputs": [
    {
     "data": {
      "text/plain": [
       "[4, 5, 6]"
      ]
     },
     "execution_count": 53,
     "metadata": {},
     "output_type": "execute_result"
    }
   ],
   "source": [
    "b"
   ]
  },
  {
   "cell_type": "markdown",
   "metadata": {},
   "source": [
    "And a was first defined as a = [4,5], but now is"
   ]
  },
  {
   "cell_type": "code",
   "execution_count": 56,
   "metadata": {},
   "outputs": [
    {
     "data": {
      "text/plain": [
       "[4, 5, 6]"
      ]
     },
     "execution_count": 56,
     "metadata": {},
     "output_type": "execute_result"
    }
   ],
   "source": [
    "a"
   ]
  },
  {
   "cell_type": "code",
   "execution_count": 58,
   "metadata": {},
   "outputs": [
    {
     "data": {
      "text/plain": [
       "[4, 5, 6]"
      ]
     },
     "execution_count": 58,
     "metadata": {},
     "output_type": "execute_result"
    }
   ],
   "source": [
    "c = a.copy()\n",
    "c"
   ]
  },
  {
   "cell_type": "code",
   "execution_count": 59,
   "metadata": {},
   "outputs": [
    {
     "data": {
      "text/plain": [
       "140389812472520"
      ]
     },
     "execution_count": 59,
     "metadata": {},
     "output_type": "execute_result"
    }
   ],
   "source": [
    "id(c)"
   ]
  },
  {
   "cell_type": "markdown",
   "metadata": {},
   "source": [
    "### Using the shell from within IPython\n",
    "\n",
    "with `!`, we can send commands to the underlying operating system.  \n",
    "__IMPORTANT!! The shell where !command runs is immediately discarded after executing ‘command’.__\n"
   ]
  },
  {
   "cell_type": "code",
   "execution_count": 1,
   "metadata": {},
   "outputs": [
    {
     "name": "stdout",
     "output_type": "stream",
     "text": [
      "/home/dsc/Python\n",
      "mié oct 14 16:50:47 CEST 2020\n",
      " 01_intro_to_notebook_complete.ipynb   10_tuplas_clean.ipynb\n",
      " 02_flow_control_empty.ipynb\t       12_Dict_y_set_clean.ipynb\n",
      " 03_functions_and_import_empty.ipynb   1.Intro.ipynb\n",
      " 04_Scalar_Types_Empty.ipynb\t       2.Flow_control.ipynb\n",
      " 05_shell_and_magic.ipynb\t      '3.Data structure.ipynb'\n",
      " 06_exercises.ipynb\t\t       numpy_playbackground_complete.ipynb\n",
      " 07_working_with_files-clean.ipynb     numpy_playbackground.ipynb\n",
      " 08_09_Lists_clean.ipynb\t       shell.ipynb\n",
      "head: cannot open 'Finn.txt' for reading: No such file or directory\n",
      "0\n"
     ]
    }
   ],
   "source": [
    "! pwd\n",
    "! date\n",
    "! ls\n",
    "! head Finn.txt | tail -n 1 | wc -w"
   ]
  },
  {
   "cell_type": "markdown",
   "metadata": {},
   "source": [
    "##  Line and Cell magics\n",
    "\n",
    "\"Metacommands\" that allow us to interact with IPython.  \n",
    "__They are not Python! other interpreters will throw a SyntaxError if we use them in regular Python programs.__  \n",
    "They are intended only for interactive use."
   ]
  },
  {
   "cell_type": "markdown",
   "metadata": {},
   "source": [
    "IPython has a set of predefined ‘magic functions’  \n",
    "Line magics are prefixed with the %  \n",
    "Cell magics are prefixed with a double %%"
   ]
  },
  {
   "cell_type": "markdown",
   "metadata": {},
   "source": [
    "__You can use curly braces to substitute the value of a Python expression within a shell command__"
   ]
  },
  {
   "cell_type": "code",
   "execution_count": 2,
   "metadata": {},
   "outputs": [],
   "source": [
    "text=\"this is from python\""
   ]
  },
  {
   "cell_type": "code",
   "execution_count": 3,
   "metadata": {},
   "outputs": [
    {
     "name": "stdout",
     "output_type": "stream",
     "text": [
      "      1       4      20\r\n"
     ]
    }
   ],
   "source": [
    "! echo {text} | wc "
   ]
  },
  {
   "cell_type": "code",
   "execution_count": null,
   "metadata": {},
   "outputs": [],
   "source": []
  }
 ],
 "metadata": {
  "kernelspec": {
   "display_name": "Python 3",
   "language": "python",
   "name": "python3"
  },
  "language_info": {
   "codemirror_mode": {
    "name": "ipython",
    "version": 3
   },
   "file_extension": ".py",
   "mimetype": "text/x-python",
   "name": "python",
   "nbconvert_exporter": "python",
   "pygments_lexer": "ipython3",
   "version": "3.7.1"
  }
 },
 "nbformat": 4,
 "nbformat_minor": 2
}
