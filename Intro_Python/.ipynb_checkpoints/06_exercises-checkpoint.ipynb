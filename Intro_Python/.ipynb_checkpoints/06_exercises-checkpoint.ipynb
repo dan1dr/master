{
 "cells": [
  {
   "cell_type": "markdown",
   "metadata": {},
   "source": [
    "## Quick exercises 1"
   ]
  },
  {
   "cell_type": "markdown",
   "metadata": {},
   "source": [
    "1. Implement a function that takes as input three variables, and returns the largest of the three.  Do this without using the Python max() function! Make one version without any local variable and another with one local variable."
   ]
  },
  {
   "cell_type": "code",
   "execution_count": 7,
   "metadata": {},
   "outputs": [],
   "source": [
    "def max_of_three(a, b, c):\n",
    "    if a > b:\n",
    "        if a > c:\n",
    "            return a\n",
    "        else:\n",
    "            return c\n",
    "    else:\n",
    "        if b > c:\n",
    "            return b\n",
    "        else:\n",
    "            return c"
   ]
  },
  {
   "cell_type": "code",
   "execution_count": 12,
   "metadata": {},
   "outputs": [
    {
     "data": {
      "text/plain": [
       "5.5"
      ]
     },
     "execution_count": 12,
     "metadata": {},
     "output_type": "execute_result"
    }
   ],
   "source": [
    "max_of_three(3,5.5,1)"
   ]
  },
  {
   "cell_type": "code",
   "execution_count": 14,
   "metadata": {},
   "outputs": [],
   "source": [
    "def max_of_three2(a, b, c):\n",
    "    max = a\n",
    "    if max < b:\n",
    "        max = b\n",
    "    if max < c:\n",
    "        max = c\n",
    "    return max\n",
    "    "
   ]
  },
  {
   "cell_type": "code",
   "execution_count": 18,
   "metadata": {},
   "outputs": [
    {
     "data": {
      "text/plain": [
       "66"
      ]
     },
     "execution_count": 18,
     "metadata": {},
     "output_type": "execute_result"
    }
   ],
   "source": [
    "max_of_three2(21,44,66)"
   ]
  },
  {
   "cell_type": "markdown",
   "metadata": {},
   "source": [
    "2. Write a function “centenario” that will take Name, and year of birth  as inputs, check if year of birth is intand cast it to intif not, and print name together with the text explaining when the person is to have 100 years (hint: use isinstance)"
   ]
  },
  {
   "cell_type": "code",
   "execution_count": 56,
   "metadata": {},
   "outputs": [],
   "source": [
    "def centenario(name,year):\n",
    "    if not isinstance(year,int):\n",
    "        year = int(year)\n",
    "    print (f\"{name} will reach 100 years in {year+100}\")\n",
    "    #print(\"%s will reach 100 years in %r\" %(name, year+100))\n",
    "    "
   ]
  },
  {
   "cell_type": "code",
   "execution_count": 58,
   "metadata": {},
   "outputs": [
    {
     "name": "stdout",
     "output_type": "stream",
     "text": [
      "Pedro will reach 100 years in 2087\n"
     ]
    }
   ],
   "source": [
    "centenario(\"Pedro\",1987)"
   ]
  },
  {
   "cell_type": "markdown",
   "metadata": {},
   "source": [
    "## Quick exercises 2"
   ]
  },
  {
   "cell_type": "markdown",
   "metadata": {},
   "source": [
    "1. Write a function to calculate the number of words, number of lines, and length of a string the same way the wccommand does in the command line"
   ]
  },
  {
   "cell_type": "code",
   "execution_count": 77,
   "metadata": {},
   "outputs": [],
   "source": [
    "def wc(x):\n",
    "    chars=0\n",
    "    for char in x:\n",
    "        chars += 1\n",
    "    words = len(x.split(\" \"))\n",
    "    lines = len(x.split(\"\\n\"))\n",
    "    return (lines, words, chars)"
   ]
  },
  {
   "cell_type": "code",
   "execution_count": 81,
   "metadata": {},
   "outputs": [
    {
     "data": {
      "text/plain": [
       "(3, 8, 37)"
      ]
     },
     "execution_count": 81,
     "metadata": {},
     "output_type": "execute_result"
    }
   ],
   "source": [
    "wc(\"Give me \\nthe number \\nof lines of this\")"
   ]
  },
  {
   "cell_type": "code",
   "execution_count": 82,
   "metadata": {},
   "outputs": [],
   "source": [
    "def wc2(string):\n",
    "    \n",
    "    lines = len(string.split('\\n'))\n",
    "    words = len(string.split(\" \"))\n",
    "    chars = len(string)\n",
    "            \n",
    "    print(lines, words, chars)"
   ]
  },
  {
   "cell_type": "code",
   "execution_count": 83,
   "metadata": {},
   "outputs": [
    {
     "name": "stdout",
     "output_type": "stream",
     "text": [
      "3 8 37\n"
     ]
    }
   ],
   "source": [
    "wc2(\"Give me \\nthe number \\nof lines of this\")"
   ]
  },
  {
   "cell_type": "markdown",
   "metadata": {},
   "source": [
    "2. Write a program to remove the n$^{th}$ index character from a string. If the input string is empty print warning."
   ]
  },
  {
   "cell_type": "code",
   "execution_count": 219,
   "metadata": {},
   "outputs": [],
   "source": [
    "def remove_char(str, n):\n",
    "    if not str:\n",
    "        print(\"Warning\")\n",
    "    else:\n",
    "        first_part = str[:n]\n",
    "        last_part = str[n+1:]\n",
    "        return first_part + last_part"
   ]
  },
  {
   "cell_type": "code",
   "execution_count": 220,
   "metadata": {},
   "outputs": [
    {
     "data": {
      "text/plain": [
       "'Qutame'"
      ]
     },
     "execution_count": 220,
     "metadata": {},
     "output_type": "execute_result"
    }
   ],
   "source": [
    "remove_char(\"Quitame\", 2)"
   ]
  },
  {
   "cell_type": "code",
   "execution_count": 221,
   "metadata": {},
   "outputs": [
    {
     "name": "stdout",
     "output_type": "stream",
     "text": [
      "Enter string:freerer\n",
      "Enter the index of the character to remove:3\n",
      "Modified string:\n",
      "frerer\n"
     ]
    }
   ],
   "source": [
    "str=input(\"Enter string:\")\n",
    "n=int(input(\"Enter the index of the character to remove:\"))\n",
    "print(\"Modified string:\")\n",
    "print(remove_char(str, n))"
   ]
  },
  {
   "cell_type": "code",
   "execution_count": 254,
   "metadata": {},
   "outputs": [
    {
     "name": "stdout",
     "output_type": "stream",
     "text": [
      "Quita un elemento cualquiera: abdefghi\n",
      "Quita el primer elemento: bcdefghi\n",
      "Quita el ultimo elemento: abcdefgh\n",
      "Quita elementos con n negativo: abcdeghi\n",
      "Deja la cadena intacta cuando n > len(strg): abcdefghi\n",
      "Devuelve String is empty cuando la cadena esta vacia\n"
     ]
    }
   ],
   "source": [
    "#Or we can rewrite it simplier:\n",
    "def remove_char(str, n):\n",
    "    return str[:n] + str[n+1:] if str else \"String is empty\"\n",
    "\n",
    "print(f\"Quita un elemento cualquiera: {remove_char('abcdefghi', 2)}\")\n",
    "print(f\"Quita el primer elemento: {remove_char('abcdefghi', 0)}\")\n",
    "print(f\"Quita el ultimo elemento: {remove_char('abcdefghi', 8)}\")\n",
    "print(f\"Quita elementos con n negativo: {remove_char('abcdefghi', -4)}\")\n",
    "print(f\"Deja la cadena intacta cuando n > len(strg): {remove_char('abcdefghi', 15)}\")\n",
    "print(f\"Devuelve {remove_char('', 2)} cuando la cadena esta vacia\")"
   ]
  },
  {
   "cell_type": "code",
   "execution_count": 244,
   "metadata": {},
   "outputs": [
    {
     "data": {
      "text/plain": [
       "'hoa'"
      ]
     },
     "execution_count": 244,
     "metadata": {},
     "output_type": "execute_result"
    }
   ],
   "source": [
    "remove_char(\"hola\", 2)"
   ]
  },
  {
   "cell_type": "markdown",
   "metadata": {},
   "source": [
    "## Quick exercises 3"
   ]
  },
  {
   "cell_type": "markdown",
   "metadata": {},
   "source": [
    "1. While inside python, go to ~/Data/opentraveldata/ and list the files. Repeat the same for   /home/dsc/Data/us_dot/otpand ~/Data/us_dot/traffic/. \n",
    "Use the list of visited directories from dhistand write for loop which will return for each visited directory its name and number of files inside"
   ]
  },
  {
   "cell_type": "code",
   "execution_count": 14,
   "metadata": {},
   "outputs": [
    {
     "name": "stdout",
     "output_type": "stream",
     "text": [
      "/home/dsc/Data/opentraveldata\n"
     ]
    }
   ],
   "source": [
    " %cd ~/Data/opentraveldata/"
   ]
  },
  {
   "cell_type": "code",
   "execution_count": 20,
   "metadata": {},
   "outputs": [
    {
     "name": "stdout",
     "output_type": "stream",
     "text": [
      "total 8056\r\n",
      "   4 20lines2.txt\t\t  20 optd_aircraft.csv\r\n",
      "   4 20lines.txt\t\t 108 optd_airlines.csv\r\n",
      "   4 hello-world\t\t7892 optd_por_public.csv\r\n",
      "   4 largest_file.txt\t\t   8 ref_airline_nb_of_flights.csv\r\n",
      "   4 last_3_aircraft_lines.txt\t   4 test_file\r\n",
      "   4 line_number8.csv\r\n"
     ]
    }
   ],
   "source": [
    "! ls -s"
   ]
  },
  {
   "cell_type": "code",
   "execution_count": 27,
   "metadata": {},
   "outputs": [
    {
     "name": "stdout",
     "output_type": "stream",
     "text": [
      "/home/dsc/Data/us_dot/otp\n",
      "total 29664\r\n",
      "29664 On_Time_Reporting_Carrier_On_Time_Performance_1987_present_2018_12.zip\r\n"
     ]
    }
   ],
   "source": [
    "%cd /home/dsc/Data/us_dot/otp\n",
    "! ls -s"
   ]
  },
  {
   "cell_type": "code",
   "execution_count": 30,
   "metadata": {},
   "outputs": [
    {
     "name": "stdout",
     "output_type": "stream",
     "text": [
      "/home/dsc/Data/us_dot/traffic\n",
      "total 22052\r\n",
      "16476 T100_SEGMENT_ALL_CARRIER_2014.zip\r\n",
      " 5576 T100_SEGMENT_ALL_CARRIER_2015.zip\r\n"
     ]
    }
   ],
   "source": [
    "%cd ~/Data/us_dot/traffic\n",
    "! ls -s"
   ]
  },
  {
   "cell_type": "code",
   "execution_count": 29,
   "metadata": {},
   "outputs": [
    {
     "name": "stdout",
     "output_type": "stream",
     "text": [
      "/home/dsc/Python 17\n",
      "/home/dsc/Data/opentraveldata 11\n",
      "/home/dsc/Data/us_dot/otp 1\n",
      "/home/dsc/Data/us_dot/traffic 2\n"
     ]
    }
   ],
   "source": [
    "for i in _dh:\n",
    "    wc = !(ls -l $i | wc -l)\n",
    "    print(i, int(wc[0])-1)"
   ]
  },
  {
   "cell_type": "markdown",
   "metadata": {},
   "source": [
    "2. Write a function that will take text file and pattern as input parameters, and return the number of occurances of case insensitive pattern inside a text (similar to: grep -i–o pattern file | wc-l"
   ]
  },
  {
   "cell_type": "code",
   "execution_count": 31,
   "metadata": {},
   "outputs": [],
   "source": [
    "#?"
   ]
  },
  {
   "cell_type": "markdown",
   "metadata": {},
   "source": [
    "3. Open Finn.txt  file, read lines into a list.  Remove trailing white spaces from each line . Write the resulting list to the new file. How many lines does the new file have?  (hint: empty list is made with [ ] )"
   ]
  },
  {
   "cell_type": "code",
   "execution_count": 92,
   "metadata": {},
   "outputs": [
    {
     "data": {
      "text/plain": [
       "12363"
      ]
     },
     "execution_count": 92,
     "metadata": {},
     "output_type": "execute_result"
    }
   ],
   "source": [
    "path = '/home/dsc/Data/shell/Finn.txt'\n",
    "f = open(path)\n",
    "lines = []\n",
    "for line in f:\n",
    "    lines.append(line)\n",
    "f.close()\n",
    "len(lines)"
   ]
  },
  {
   "cell_type": "code",
   "execution_count": 93,
   "metadata": {},
   "outputs": [
    {
     "name": "stdout",
     "output_type": "stream",
     "text": [
      "/home/dsc/Data/shell\n",
      "12363 Finn.txt\r\n"
     ]
    }
   ],
   "source": [
    "%cd ~/Data/shell \n",
    "! wc -l Finn.txt"
   ]
  },
  {
   "cell_type": "code",
   "execution_count": 95,
   "metadata": {},
   "outputs": [
    {
     "data": {
      "text/plain": [
       "12363"
      ]
     },
     "execution_count": 95,
     "metadata": {},
     "output_type": "execute_result"
    }
   ],
   "source": [
    "no_eol = []\n",
    "for line in lines:\n",
    "    no_eol.append(line.rstrip())\n",
    "    #The rstrip() method removes any trailing characters (characters at the end a string)\n",
    "    #space is the default trailing character to remove\n",
    "len(no_eol)"
   ]
  },
  {
   "cell_type": "code",
   "execution_count": 96,
   "metadata": {},
   "outputs": [],
   "source": [
    "f_out=open(\"Finn_no_eol.txt\", 'w')\n",
    "for line in no_eol:\n",
    "    f_out.writelines(line)\n",
    "f_out.close()\n",
    "#??"
   ]
  },
  {
   "cell_type": "markdown",
   "metadata": {},
   "source": [
    "4. Open Finn.txt  file, read lines into a list. Create a new version of Finn_nbl.txt with no blank lines."
   ]
  },
  {
   "cell_type": "code",
   "execution_count": 97,
   "metadata": {},
   "outputs": [],
   "source": [
    "path = '/home/dsc/Data/shell/Finn.txt'\n",
    "f = open(path)\n",
    "lines = []\n",
    "for line in f:\n",
    "    lines.append(line)\n",
    "f.close()\n",
    "len(lines)\n",
    "\n",
    "f_out=open(\"Finn_nbl.txt\", 'w')\n",
    "for line in lines:\n",
    "    if len(lines)>2:\n",
    "        f_out.writelines(line)\n",
    "f_out.close()"
   ]
  },
  {
   "cell_type": "markdown",
   "metadata": {},
   "source": [
    "5. Reset the workspace. Obtain the difference in number of lines between original Finn file and andthe one without blank lines  and print the result. (hint: use wc)"
   ]
  },
  {
   "cell_type": "code",
   "execution_count": 98,
   "metadata": {},
   "outputs": [
    {
     "name": "stdout",
     "output_type": "stream",
     "text": [
      "Once deleted, variables cannot be recovered. Proceed (y/[n])? y\n"
     ]
    }
   ],
   "source": [
    "%reset"
   ]
  },
  {
   "cell_type": "code",
   "execution_count": 99,
   "metadata": {},
   "outputs": [
    {
     "name": "stdout",
     "output_type": "stream",
     "text": [
      "Finn_nbl.txt\t\t  last_20_commands\t\t Text_example.txt\r\n",
      "Finn_no_eol.txt\t\t  last20.txt\t\t\t timestamp_header.txt\r\n",
      "Finn.txt\t\t  Text_example2.txt\r\n",
      "first_linux_commands-txt  Text_example_line_numbers-txt\r\n"
     ]
    }
   ],
   "source": [
    "! ls"
   ]
  },
  {
   "cell_type": "code",
   "execution_count": 100,
   "metadata": {},
   "outputs": [
    {
     "data": {
      "text/plain": [
       "0"
      ]
     },
     "execution_count": 100,
     "metadata": {},
     "output_type": "execute_result"
    }
   ],
   "source": [
    "lines_nbl = ! wc -l Finn_nbl.txt | cut -d \" \" -f 1\n",
    "lines_org = ! wc -l Finn.txt | cut -d \" \" -f 1\n",
    "line_diff = int(lines_org[0]) - int(lines_nbl[0])\n",
    "line_diff"
   ]
  },
  {
   "cell_type": "markdown",
   "metadata": {},
   "source": [
    "## Quick exercises 4"
   ]
  },
  {
   "cell_type": "markdown",
   "metadata": {},
   "source": [
    "1. For a seq = [1,2,3,4,5,6,7,8] get the squared values using the lambda function"
   ]
  },
  {
   "cell_type": "markdown",
   "metadata": {},
   "source": [
    "#### Lambda function\n",
    "Function defined without a name, can have any number of arguments but only one expression.\n",
    "Frequently used inside other functions as argument ( filter(), map() ...)\n"
   ]
  },
  {
   "cell_type": "code",
   "execution_count": 103,
   "metadata": {
    "scrolled": true
   },
   "outputs": [
    {
     "name": "stdout",
     "output_type": "stream",
     "text": [
      "14\n"
     ]
    }
   ],
   "source": [
    "double = lambda x: x * 2\n",
    "print(double(7))"
   ]
  },
  {
   "cell_type": "code",
   "execution_count": 104,
   "metadata": {},
   "outputs": [],
   "source": [
    "seq = [1,2,3,4,5,6,7,8]"
   ]
  },
  {
   "cell_type": "code",
   "execution_count": 105,
   "metadata": {
    "scrolled": false
   },
   "outputs": [
    {
     "data": {
      "text/plain": [
       "[1, 4, 9, 16, 25, 36, 49, 64]"
      ]
     },
     "execution_count": 105,
     "metadata": {},
     "output_type": "execute_result"
    }
   ],
   "source": [
    "list(map(lambda element: element**2,seq))"
   ]
  },
  {
   "cell_type": "markdown",
   "metadata": {},
   "source": [
    "The filter() function takes in a function and a list of arguments. E.g. Filter out only the even items from list:"
   ]
  },
  {
   "cell_type": "code",
   "execution_count": 106,
   "metadata": {},
   "outputs": [],
   "source": [
    "my_list = [1, 3, 4, 5, 8, 12, 13, 15]\n",
    "new_list = list(filter(lambda x: (x%2 == 0), my_list))"
   ]
  },
  {
   "cell_type": "code",
   "execution_count": 107,
   "metadata": {},
   "outputs": [
    {
     "name": "stdout",
     "output_type": "stream",
     "text": [
      "[4, 8, 12]\n"
     ]
    }
   ],
   "source": [
    "print(new_list)"
   ]
  },
  {
   "cell_type": "markdown",
   "metadata": {},
   "source": [
    "The map() function takes in a function and a list. E.g. double all the items in a list"
   ]
  },
  {
   "cell_type": "code",
   "execution_count": 109,
   "metadata": {},
   "outputs": [
    {
     "name": "stdout",
     "output_type": "stream",
     "text": [
      "[2, 6, 8, 10, 16, 24, 26, 30]\n"
     ]
    }
   ],
   "source": [
    "new_list2 = list(map(lambda x: x*2, my_list))\n",
    "print(new_list2)"
   ]
  },
  {
   "cell_type": "code",
   "execution_count": 110,
   "metadata": {},
   "outputs": [
    {
     "data": {
      "text/plain": [
       "[1, 4, 9, 16, 25, 36, 49, 64]"
      ]
     },
     "execution_count": 110,
     "metadata": {},
     "output_type": "execute_result"
    }
   ],
   "source": [
    "list(map(lambda x: x*x, seq))"
   ]
  },
  {
   "cell_type": "markdown",
   "metadata": {},
   "source": [
    "2. Prepare a list with 10 names. Make a code that will put all vowels to capitals and every other character to lower letters."
   ]
  },
  {
   "cell_type": "code",
   "execution_count": 129,
   "metadata": {},
   "outputs": [],
   "source": [
    "lista = ['pablo', 'adri', 'pedro', 'dani', 'lucia', 'marta', 'luperta', 'roberto', 'maria', 'lucas']"
   ]
  },
  {
   "cell_type": "code",
   "execution_count": 122,
   "metadata": {},
   "outputs": [],
   "source": [
    "lista_nueva = []\n",
    "for name in lista:\n",
    "    new_name = \"\"\n",
    "    for letter in name:\n",
    "        if letter in \"aeiouAEIOU\":\n",
    "            new_name = new_name + letter.upper()\n",
    "        else:\n",
    "            new_name = new_name + letter.lower()\n",
    "    lista_nueva.append(new_name)"
   ]
  },
  {
   "cell_type": "code",
   "execution_count": 123,
   "metadata": {},
   "outputs": [
    {
     "data": {
      "text/plain": [
       "['pAblO',\n",
       " 'AdrI',\n",
       " 'pEdrO',\n",
       " 'dAnI',\n",
       " 'lUcIA',\n",
       " 'mArtA',\n",
       " 'lUpErtA',\n",
       " 'rObErtO',\n",
       " 'mArIA',\n",
       " 'lUcAs']"
      ]
     },
     "execution_count": 123,
     "metadata": {},
     "output_type": "execute_result"
    }
   ],
   "source": [
    "lista_nueva"
   ]
  },
  {
   "cell_type": "code",
   "execution_count": 255,
   "metadata": {},
   "outputs": [
    {
     "name": "stdout",
     "output_type": "stream",
     "text": [
      "['pAblO', 'AdrI', 'pEdrO', 'dAnI', 'lUcIA', 'mArtA', 'lUpErtA', 'rObErtO', 'mArIA', 'lUcAs']\n"
     ]
    }
   ],
   "source": [
    "print([name.lower().translate(str.maketrans(\"aeiou\", \"AEIOU\")) for name in lista])"
   ]
  },
  {
   "cell_type": "markdown",
   "metadata": {},
   "source": [
    "The translate() method returns a string where some specified characters are replaced with the character described in a dictionary, or in a mapping table.\n",
    "\n",
    "The maketrans() method returns a mapping table that can be used with the translate() method to replace specified characters."
   ]
  },
  {
   "cell_type": "markdown",
   "metadata": {},
   "source": [
    "3. Prepare again a list with 10 names. Make a function with two input variables: list, and character; that returns a list of names containing one or more of input characters ’s inside the name."
   ]
  },
  {
   "cell_type": "code",
   "execution_count": 138,
   "metadata": {},
   "outputs": [],
   "source": [
    "def inside(name_list, ch):\n",
    "    names_of_interest = []\n",
    "    for name in name_list:\n",
    "        if name.count(ch) > 0:\n",
    "            names_of_interest.append(name)\n",
    "    return names_of_interest"
   ]
  },
  {
   "cell_type": "code",
   "execution_count": 140,
   "metadata": {},
   "outputs": [
    {
     "data": {
      "text/plain": [
       "['pedro', 'luperta', 'roberto']"
      ]
     },
     "execution_count": 140,
     "metadata": {},
     "output_type": "execute_result"
    }
   ],
   "source": [
    "inside(('pablo', 'adri', 'pedro', 'dani', 'lucia', 'marta', 'luperta', 'roberto', 'maria', 'lucas'), \"e\")"
   ]
  },
  {
   "cell_type": "code",
   "execution_count": 256,
   "metadata": {},
   "outputs": [],
   "source": [
    "def inside(name_list, ch):\n",
    "    return [name for name in lista if ch in name.lower()]"
   ]
  },
  {
   "cell_type": "code",
   "execution_count": 257,
   "metadata": {},
   "outputs": [
    {
     "data": {
      "text/plain": [
       "['pedro', 'luperta', 'roberto']"
      ]
     },
     "execution_count": 257,
     "metadata": {},
     "output_type": "execute_result"
    }
   ],
   "source": [
    "inside(('pablo', 'adri', 'pedro', 'dani', 'lucia', 'marta', 'luperta', 'roberto', 'maria', 'lucas'), \"e\")"
   ]
  },
  {
   "cell_type": "code",
   "execution_count": null,
   "metadata": {},
   "outputs": [],
   "source": []
  },
  {
   "cell_type": "markdown",
   "metadata": {},
   "source": [
    "4. Reverse word order from the input string"
   ]
  },
  {
   "cell_type": "code",
   "execution_count": 151,
   "metadata": {},
   "outputs": [],
   "source": [
    "def reverse(x):\n",
    "    y = x.split()\n",
    "    result = []\n",
    "    for word in y:\n",
    "        result.insert(0,word)\n",
    "    return \" \".join(result)"
   ]
  },
  {
   "cell_type": "code",
   "execution_count": 169,
   "metadata": {},
   "outputs": [
    {
     "data": {
      "text/plain": [
       "'esto es una frase y ya está'"
      ]
     },
     "execution_count": 169,
     "metadata": {},
     "output_type": "execute_result"
    }
   ],
   "source": [
    "reverse(\"está ya y frase una es esto\")"
   ]
  },
  {
   "cell_type": "code",
   "execution_count": 180,
   "metadata": {},
   "outputs": [
    {
     "data": {
      "text/plain": [
       "'esto es una frase y ya esta'"
      ]
     },
     "execution_count": 180,
     "metadata": {},
     "output_type": "execute_result"
    }
   ],
   "source": [
    "#other option\n",
    "def reverse2(x):\n",
    "    y = x.split()\n",
    "    return \" \".join(y[::-1])\n",
    "    #return \" \".join(reversed(y))\n",
    "def reverse3(x):\n",
    "    y = x.split()\n",
    "    y.reverse()\n",
    "    return \" \".join(y)\n",
    "reverse2(\"esta ya y frase una es esto\")"
   ]
  },
  {
   "cell_type": "code",
   "execution_count": 181,
   "metadata": {},
   "outputs": [
    {
     "data": {
      "text/plain": [
       "'esto es una frase y ya esta'"
      ]
     },
     "execution_count": 181,
     "metadata": {},
     "output_type": "execute_result"
    }
   ],
   "source": [
    "reverse3(\"esta ya y frase una es esto\")"
   ]
  },
  {
   "cell_type": "markdown",
   "metadata": {},
   "source": [
    "5. Create a function that accepts string as search string and returns number of lines with that string in a command history (hint : use a in b)"
   ]
  },
  {
   "cell_type": "code",
   "execution_count": 186,
   "metadata": {},
   "outputs": [],
   "source": [
    "\n",
    "def count_histlines_with(x):\n",
    "    count_lines = 0\n",
    "    for i in lines:\n",
    "        if x in i:\n",
    "            count_lines += 1\n",
    "    return count_lines\n",
    "        "
   ]
  },
  {
   "cell_type": "code",
   "execution_count": 187,
   "metadata": {},
   "outputs": [
    {
     "data": {
      "text/plain": [
       "1"
      ]
     },
     "execution_count": 187,
     "metadata": {},
     "output_type": "execute_result"
    }
   ],
   "source": [
    "count_histlines_with(\"\")"
   ]
  },
  {
   "cell_type": "markdown",
   "metadata": {},
   "source": [
    "6. Write a Python function that takes a list of words and returns the length of the longest "
   ]
  },
  {
   "cell_type": "code",
   "execution_count": 258,
   "metadata": {},
   "outputs": [
    {
     "data": {
      "text/plain": [
       "'peddvsvsdvsdvsdro'"
      ]
     },
     "execution_count": 258,
     "metadata": {},
     "output_type": "execute_result"
    }
   ],
   "source": [
    "def find_longest_word(words_list):\n",
    "    word_len = []\n",
    "    for i in words_list:\n",
    "        word_len.append((len(i),i))\n",
    "    word_len.sort()\n",
    "    return word_len[-1][1]\n",
    "find_longest_word(('pablo', 'peddvsvsdvsdvsdro', 'osc', 'eldcdvefante', 'pp'))"
   ]
  },
  {
   "cell_type": "code",
   "execution_count": 265,
   "metadata": {},
   "outputs": [
    {
     "name": "stdout",
     "output_type": "stream",
     "text": [
      "7\n"
     ]
    }
   ],
   "source": [
    "def find_longest_word(words_list):\n",
    "    return len(max(words_list, key = len))\n",
    "\n",
    "names = [\"Bob\", \"Igor\", \"Anita\", \"Israel\", \"Thomas\", \"Bill\", \"Ronaldo\", \"Messi\"] \n",
    "print(find_longest_word(names))"
   ]
  },
  {
   "cell_type": "code",
   "execution_count": 266,
   "metadata": {},
   "outputs": [
    {
     "data": {
      "text/plain": [
       "['pablo', 'pedro', 'roberto']"
      ]
     },
     "execution_count": 266,
     "metadata": {},
     "output_type": "execute_result"
    }
   ],
   "source": [
    "[lista for lista in lista if lista.count('o')>0]\n"
   ]
  },
  {
   "cell_type": "code",
   "execution_count": 267,
   "metadata": {},
   "outputs": [
    {
     "data": {
      "text/plain": [
       "['pablo', 'pedro', 'roberto']"
      ]
     },
     "execution_count": 267,
     "metadata": {},
     "output_type": "execute_result"
    }
   ],
   "source": [
    "result = []\n",
    "for lista in lista:\n",
    "    if lista.count('o')>0:\n",
    "        result.append(lista)\n",
    "result"
   ]
  },
  {
   "cell_type": "markdown",
   "metadata": {},
   "source": [
    "## Dictionary. key()"
   ]
  },
  {
   "cell_type": "markdown",
   "metadata": {},
   "source": [
    "A dictionary is an unordered collection of data values, which holds key:value pair"
   ]
  },
  {
   "cell_type": "code",
   "execution_count": 268,
   "metadata": {},
   "outputs": [
    {
     "name": "stdout",
     "output_type": "stream",
     "text": [
      "dict_keys(['A', 'B', 'C'])\n",
      "dict_keys([])\n"
     ]
    }
   ],
   "source": [
    "Dictionary1 = {'A': 'Apple', 'B': 'Potatoe', 'C': 'Carrot'} \n",
    "  \n",
    "# Printing keys of dictionary \n",
    "print(Dictionary1.keys()) \n",
    "  \n",
    "# Creating empty Dictionary \n",
    "empty_Dict1 = {} \n",
    "  \n",
    "# Printing keys of Empty Dictionary \n",
    "print(empty_Dict1.keys()) "
   ]
  },
  {
   "cell_type": "code",
   "execution_count": 269,
   "metadata": {},
   "outputs": [
    {
     "name": "stdout",
     "output_type": "stream",
     "text": [
      "dict_keys(['A', 'B', 'C'])\n"
     ]
    }
   ],
   "source": [
    "keys = Dictionary1.keys()\n",
    "print(keys)"
   ]
  },
  {
   "cell_type": "code",
   "execution_count": 270,
   "metadata": {},
   "outputs": [
    {
     "name": "stdout",
     "output_type": "stream",
     "text": [
      "\n",
      "After update\n",
      "dict_keys(['A', 'B', 'C', 'D'])\n"
     ]
    }
   ],
   "source": [
    "#Update dictionary\n",
    "Dictionary1.update({'D':'Banana'})\n",
    "print(\"\\nAfter update\")\n",
    "print(keys)"
   ]
  },
  {
   "cell_type": "code",
   "execution_count": 271,
   "metadata": {},
   "outputs": [
    {
     "name": "stdout",
     "output_type": "stream",
     "text": [
      "Before dictionary is updated\n",
      "dict_keys(['name', 'age'])\n"
     ]
    }
   ],
   "source": [
    "person = {'name': 'Phill', 'age': 22, }\n",
    "\n",
    "print('Before dictionary is updated')\n",
    "keys = person.keys()\n",
    "print(keys)"
   ]
  },
  {
   "cell_type": "code",
   "execution_count": 272,
   "metadata": {},
   "outputs": [
    {
     "name": "stdout",
     "output_type": "stream",
     "text": [
      "\n",
      "After dictionary is updated\n",
      "dict_keys(['name', 'age', 'salary'])\n"
     ]
    }
   ],
   "source": [
    "# adding an element to the dictionary\n",
    "person.update({'salary': 3500.0})\n",
    "print('\\nAfter dictionary is updated')\n",
    "print(keys)"
   ]
  },
  {
   "cell_type": "code",
   "execution_count": 273,
   "metadata": {},
   "outputs": [],
   "source": [
    "quote= \"There is little evidence supporting that\""
   ]
  },
  {
   "cell_type": "code",
   "execution_count": null,
   "metadata": {},
   "outputs": [],
   "source": []
  },
  {
   "cell_type": "code",
   "execution_count": null,
   "metadata": {},
   "outputs": [],
   "source": []
  }
 ],
 "metadata": {
  "kernelspec": {
   "display_name": "Python 3",
   "language": "python",
   "name": "python3"
  },
  "language_info": {
   "codemirror_mode": {
    "name": "ipython",
    "version": 3
   },
   "file_extension": ".py",
   "mimetype": "text/x-python",
   "name": "python",
   "nbconvert_exporter": "python",
   "pygments_lexer": "ipython3",
   "version": "3.7.1"
  }
 },
 "nbformat": 4,
 "nbformat_minor": 2
}
