{
 "cells": [
  {
   "cell_type": "markdown",
   "metadata": {},
   "source": [
    "__DS_challenge_1__"
   ]
  },
  {
   "cell_type": "code",
   "execution_count": 1,
   "metadata": {},
   "outputs": [
    {
     "name": "stdout",
     "output_type": "stream",
     "text": [
      "bookings.csv.bz2  searches.csv.bz2\r\n"
     ]
    }
   ],
   "source": [
    "!ls /home/dsc/Data/challenge"
   ]
  },
  {
   "cell_type": "code",
   "execution_count": 2,
   "metadata": {},
   "outputs": [
    {
     "name": "stdout",
     "output_type": "stream",
     "text": [
      "\r\n",
      "bzcat: I/O or other error, bailing out.  Possible reason follows.\r\n",
      "bzcat: Broken pipe\r\n",
      "\tInput file = /home/dsc/Data/challenge/bookings.csv.bz2, output file = (stdout)\r\n"
     ]
    }
   ],
   "source": [
    "!bzcat /home/dsc/Data/challenge/bookings.csv.bz2 | head -10000 >> bookings.sample.csv"
   ]
  },
  {
   "cell_type": "code",
   "execution_count": 3,
   "metadata": {},
   "outputs": [],
   "source": [
    "!bzip2 -f bookings.sample.csv"
   ]
  },
  {
   "cell_type": "code",
   "execution_count": 4,
   "metadata": {},
   "outputs": [
    {
     "name": "stdout",
     "output_type": "stream",
     "text": [
      "total 744\r\n",
      "-rw-rw-r-- 1 dsc dsc 535893 nov 21 10:20 bookings.sample.csv.bz2\r\n",
      "-rw-rw-r-- 1 dsc dsc  79933 nov 20 20:33 Exercise_1_and_2.ipynb\r\n",
      "-rw-rw-r-- 1 dsc dsc 138915 nov 21 09:55 Exercise_3.ipynb\r\n",
      "-rw-rw-r-- 1 dsc dsc     72 nov 20 17:17 README.md\r\n"
     ]
    }
   ],
   "source": [
    "!ls -l"
   ]
  },
  {
   "cell_type": "code",
   "execution_count": 5,
   "metadata": {},
   "outputs": [
    {
     "name": "stdout",
     "output_type": "stream",
     "text": [
      "10000\r\n"
     ]
    }
   ],
   "source": [
    "!bzcat bookings.sample.csv.bz2 | wc -l"
   ]
  },
  {
   "cell_type": "markdown",
   "metadata": {},
   "source": [
    "With Python"
   ]
  },
  {
   "cell_type": "code",
   "execution_count": 6,
   "metadata": {},
   "outputs": [
    {
     "data": {
      "text/plain": [
       "bz2.BZ2File"
      ]
     },
     "execution_count": 6,
     "metadata": {},
     "output_type": "execute_result"
    }
   ],
   "source": [
    "import bz2\n",
    "\n",
    "fileBz2 = bz2.BZ2File('./bookings.sample.csv.bz2')\n",
    "type(fileBz2)"
   ]
  },
  {
   "cell_type": "code",
   "execution_count": 7,
   "metadata": {},
   "outputs": [
    {
     "name": "stdout",
     "output_type": "stream",
     "text": [
      "10000\n"
     ]
    }
   ],
   "source": [
    "k = 0\n",
    "for line in fileBz2:\n",
    "    k += 1\n",
    "    \n",
    "print(k)"
   ]
  },
  {
   "cell_type": "markdown",
   "metadata": {},
   "source": [
    "Or"
   ]
  },
  {
   "cell_type": "code",
   "execution_count": 8,
   "metadata": {},
   "outputs": [
    {
     "name": "stdout",
     "output_type": "stream",
     "text": [
      "10000\n"
     ]
    }
   ],
   "source": [
    "with bz2.BZ2File('./bookings.sample.csv.bz2') as fileBz2:\n",
    "    k = 0\n",
    "    for line in fileBz2:\n",
    "        k += 1\n",
    "        \n",
    "print(k)"
   ]
  },
  {
   "cell_type": "markdown",
   "metadata": {},
   "source": [
    "This method close the file at the end"
   ]
  },
  {
   "cell_type": "code",
   "execution_count": 9,
   "metadata": {},
   "outputs": [
    {
     "data": {
      "text/plain": [
       "True"
      ]
     },
     "execution_count": 9,
     "metadata": {},
     "output_type": "execute_result"
    }
   ],
   "source": [
    "fileBz2.closed"
   ]
  },
  {
   "cell_type": "code",
   "execution_count": 10,
   "metadata": {},
   "outputs": [
    {
     "name": "stdout",
     "output_type": "stream",
     "text": [
      "1000\n"
     ]
    }
   ],
   "source": [
    "with bz2.BZ2File('./bookings.sample.csv.bz2') as fileBz2:\n",
    "    k = 0\n",
    "    for line in fileBz2:\n",
    "        k += 1\n",
    "        if k == 1000:\n",
    "            break\n",
    "print(k)"
   ]
  },
  {
   "cell_type": "markdown",
   "metadata": {},
   "source": [
    "__Exercise 2__"
   ]
  },
  {
   "cell_type": "code",
   "execution_count": 11,
   "metadata": {},
   "outputs": [],
   "source": [
    "import pandas as pd"
   ]
  },
  {
   "cell_type": "code",
   "execution_count": 12,
   "metadata": {},
   "outputs": [
    {
     "data": {
      "text/plain": [
       "(9999, 38)"
      ]
     },
     "execution_count": 12,
     "metadata": {},
     "output_type": "execute_result"
    }
   ],
   "source": [
    "bookings_sample = pd.read_csv('./bookings.sample.csv.bz2', compression = 'bz2', sep = '^')\n",
    "bookings_sample.shape"
   ]
  },
  {
   "cell_type": "code",
   "execution_count": 16,
   "metadata": {},
   "outputs": [
    {
     "data": {
      "text/plain": [
       "3638"
      ]
     },
     "execution_count": 16,
     "metadata": {},
     "output_type": "execute_result"
    }
   ],
   "source": [
    "len(bookings_sample['rloc          '].unique())"
   ]
  },
  {
   "cell_type": "code",
   "execution_count": 14,
   "metadata": {},
   "outputs": [
    {
     "data": {
      "text/plain": [
       "Index(['act_date           ', 'source', 'pos_ctry', 'pos_iata', 'pos_oid  ',\n",
       "       'rloc          ', 'cre_date           ', 'duration', 'distance',\n",
       "       'dep_port', 'dep_city', 'dep_ctry', 'arr_port', 'arr_city', 'arr_ctry',\n",
       "       'lst_port', 'lst_city', 'lst_ctry', 'brd_port', 'brd_city', 'brd_ctry',\n",
       "       'off_port', 'off_city', 'off_ctry', 'mkt_port', 'mkt_city', 'mkt_ctry',\n",
       "       'intl', 'route          ', 'carrier', 'bkg_class', 'cab_class',\n",
       "       'brd_time           ', 'off_time           ', 'pax', 'year', 'month',\n",
       "       'oid      '],\n",
       "      dtype='object')"
      ]
     },
     "execution_count": 14,
     "metadata": {},
     "output_type": "execute_result"
    }
   ],
   "source": [
    "bookings_sample.columns"
   ]
  },
  {
   "cell_type": "markdown",
   "metadata": {},
   "source": [
    "Remove white spaces"
   ]
  },
  {
   "cell_type": "code",
   "execution_count": 22,
   "metadata": {},
   "outputs": [
    {
     "data": {
      "text/plain": [
       "Index(['act_date', 'source', 'pos_ctry', 'pos_iata', 'pos_oid', 'rloc',\n",
       "       'cre_date', 'duration', 'distance', 'dep_port', 'dep_city', 'dep_ctry',\n",
       "       'arr_port', 'arr_city', 'arr_ctry', 'lst_port', 'lst_city', 'lst_ctry',\n",
       "       'brd_port', 'brd_city', 'brd_ctry', 'off_port', 'off_city', 'off_ctry',\n",
       "       'mkt_port', 'mkt_city', 'mkt_ctry', 'intl', 'route', 'carrier',\n",
       "       'bkg_class', 'cab_class', 'brd_time', 'off_time', 'pax', 'year',\n",
       "       'month', 'oid'],\n",
       "      dtype='object')"
      ]
     },
     "execution_count": 22,
     "metadata": {},
     "output_type": "execute_result"
    }
   ],
   "source": [
    "columns = list(bookings_sample.columns.values)\n",
    "columns_new = [column.strip() for column in columns]\n",
    "bookings_sample.columns = columns_new\n",
    "bookings_sample.columns "
   ]
  },
  {
   "cell_type": "code",
   "execution_count": 19,
   "metadata": {},
   "outputs": [
    {
     "name": "stdout",
     "output_type": "stream",
     "text": [
      "<class 'pandas.core.frame.DataFrame'>\n",
      "RangeIndex: 9999 entries, 0 to 9998\n",
      "Data columns (total 38 columns):\n",
      " #   Column               Non-Null Count  Dtype \n",
      "---  ------               --------------  ----- \n",
      " 0   act_date             9999 non-null   object\n",
      " 1   source               9999 non-null   object\n",
      " 2   pos_ctry             9999 non-null   object\n",
      " 3   pos_iata             9999 non-null   object\n",
      " 4   pos_oid              9999 non-null   object\n",
      " 5   rloc                 9999 non-null   object\n",
      " 6   cre_date             9999 non-null   object\n",
      " 7   duration             9999 non-null   int64 \n",
      " 8   distance             9999 non-null   int64 \n",
      " 9   dep_port             9999 non-null   object\n",
      " 10  dep_city             9999 non-null   object\n",
      " 11  dep_ctry             9999 non-null   object\n",
      " 12  arr_port             9999 non-null   object\n",
      " 13  arr_city             9999 non-null   object\n",
      " 14  arr_ctry             9999 non-null   object\n",
      " 15  lst_port             9999 non-null   object\n",
      " 16  lst_city             9999 non-null   object\n",
      " 17  lst_ctry             9999 non-null   object\n",
      " 18  brd_port             9999 non-null   object\n",
      " 19  brd_city             9999 non-null   object\n",
      " 20  brd_ctry             9999 non-null   object\n",
      " 21  off_port             9999 non-null   object\n",
      " 22  off_city             9999 non-null   object\n",
      " 23  off_ctry             9999 non-null   object\n",
      " 24  mkt_port             9999 non-null   object\n",
      " 25  mkt_city             9999 non-null   object\n",
      " 26  mkt_ctry             9999 non-null   object\n",
      " 27  intl                 9999 non-null   int64 \n",
      " 28  route                9999 non-null   object\n",
      " 29  carrier              9999 non-null   object\n",
      " 30  bkg_class            9999 non-null   object\n",
      " 31  cab_class            9999 non-null   object\n",
      " 32  brd_time             9999 non-null   object\n",
      " 33  off_time             9999 non-null   object\n",
      " 34  pax                  9999 non-null   int64 \n",
      " 35  year                 9999 non-null   int64 \n",
      " 36  month                9999 non-null   int64 \n",
      " 37  oid                  9999 non-null   object\n",
      "dtypes: int64(6), object(32)\n",
      "memory usage: 2.9+ MB\n"
     ]
    }
   ],
   "source": [
    "bookings_sample.info()"
   ]
  },
  {
   "cell_type": "code",
   "execution_count": 25,
   "metadata": {},
   "outputs": [],
   "source": [
    "bookings_sample[['arr_port', 'pax']]\n",
    "bookings_sample['pax'] = bookings_sample['pax'].dropna()\n"
   ]
  },
  {
   "cell_type": "code",
   "execution_count": 31,
   "metadata": {},
   "outputs": [
    {
     "data": {
      "text/html": [
       "<div>\n",
       "<style scoped>\n",
       "    .dataframe tbody tr th:only-of-type {\n",
       "        vertical-align: middle;\n",
       "    }\n",
       "\n",
       "    .dataframe tbody tr th {\n",
       "        vertical-align: top;\n",
       "    }\n",
       "\n",
       "    .dataframe thead th {\n",
       "        text-align: right;\n",
       "    }\n",
       "</style>\n",
       "<table border=\"1\" class=\"dataframe\">\n",
       "  <thead>\n",
       "    <tr style=\"text-align: right;\">\n",
       "      <th></th>\n",
       "      <th>pax</th>\n",
       "    </tr>\n",
       "    <tr>\n",
       "      <th>arr_port</th>\n",
       "      <th></th>\n",
       "    </tr>\n",
       "  </thead>\n",
       "  <tbody>\n",
       "    <tr>\n",
       "      <th>HKG</th>\n",
       "      <td>112</td>\n",
       "    </tr>\n",
       "    <tr>\n",
       "      <th>LGA</th>\n",
       "      <td>95</td>\n",
       "    </tr>\n",
       "    <tr>\n",
       "      <th>ORD</th>\n",
       "      <td>94</td>\n",
       "    </tr>\n",
       "    <tr>\n",
       "      <th>JFK</th>\n",
       "      <td>92</td>\n",
       "    </tr>\n",
       "    <tr>\n",
       "      <th>LAX</th>\n",
       "      <td>91</td>\n",
       "    </tr>\n",
       "    <tr>\n",
       "      <th>SFO</th>\n",
       "      <td>91</td>\n",
       "    </tr>\n",
       "    <tr>\n",
       "      <th>MCO</th>\n",
       "      <td>90</td>\n",
       "    </tr>\n",
       "    <tr>\n",
       "      <th>DCA</th>\n",
       "      <td>82</td>\n",
       "    </tr>\n",
       "    <tr>\n",
       "      <th>DEN</th>\n",
       "      <td>79</td>\n",
       "    </tr>\n",
       "    <tr>\n",
       "      <th>LHR</th>\n",
       "      <td>76</td>\n",
       "    </tr>\n",
       "  </tbody>\n",
       "</table>\n",
       "</div>"
      ],
      "text/plain": [
       "          pax\n",
       "arr_port     \n",
       "HKG       112\n",
       "LGA        95\n",
       "ORD        94\n",
       "JFK        92\n",
       "LAX        91\n",
       "SFO        91\n",
       "MCO        90\n",
       "DCA        82\n",
       "DEN        79\n",
       "LHR        76"
      ]
     },
     "execution_count": 31,
     "metadata": {},
     "output_type": "execute_result"
    }
   ],
   "source": [
    "bookings_sample[['arr_port', 'pax']].groupby(['arr_port']).sum().sort_values('pax', ascending = False).head(10)"
   ]
  },
  {
   "cell_type": "code",
   "execution_count": 33,
   "metadata": {},
   "outputs": [
    {
     "data": {
      "text/html": [
       "<div>\n",
       "<style scoped>\n",
       "    .dataframe tbody tr th:only-of-type {\n",
       "        vertical-align: middle;\n",
       "    }\n",
       "\n",
       "    .dataframe tbody tr th {\n",
       "        vertical-align: top;\n",
       "    }\n",
       "\n",
       "    .dataframe thead th {\n",
       "        text-align: right;\n",
       "    }\n",
       "</style>\n",
       "<table border=\"1\" class=\"dataframe\">\n",
       "  <thead>\n",
       "    <tr style=\"text-align: right;\">\n",
       "      <th></th>\n",
       "      <th>pax</th>\n",
       "    </tr>\n",
       "    <tr>\n",
       "      <th>arr_city</th>\n",
       "      <th></th>\n",
       "    </tr>\n",
       "  </thead>\n",
       "  <tbody>\n",
       "    <tr>\n",
       "      <th>NYC</th>\n",
       "      <td>233</td>\n",
       "    </tr>\n",
       "    <tr>\n",
       "      <th>WAS</th>\n",
       "      <td>186</td>\n",
       "    </tr>\n",
       "    <tr>\n",
       "      <th>HKG</th>\n",
       "      <td>112</td>\n",
       "    </tr>\n",
       "    <tr>\n",
       "      <th>CHI</th>\n",
       "      <td>102</td>\n",
       "    </tr>\n",
       "    <tr>\n",
       "      <th>LON</th>\n",
       "      <td>96</td>\n",
       "    </tr>\n",
       "    <tr>\n",
       "      <th>LAX</th>\n",
       "      <td>91</td>\n",
       "    </tr>\n",
       "    <tr>\n",
       "      <th>SFO</th>\n",
       "      <td>91</td>\n",
       "    </tr>\n",
       "    <tr>\n",
       "      <th>ORL</th>\n",
       "      <td>90</td>\n",
       "    </tr>\n",
       "    <tr>\n",
       "      <th>DEN</th>\n",
       "      <td>79</td>\n",
       "    </tr>\n",
       "    <tr>\n",
       "      <th>LAS</th>\n",
       "      <td>70</td>\n",
       "    </tr>\n",
       "  </tbody>\n",
       "</table>\n",
       "</div>"
      ],
      "text/plain": [
       "          pax\n",
       "arr_city     \n",
       "NYC       233\n",
       "WAS       186\n",
       "HKG       112\n",
       "CHI       102\n",
       "LON        96\n",
       "LAX        91\n",
       "SFO        91\n",
       "ORL        90\n",
       "DEN        79\n",
       "LAS        70"
      ]
     },
     "execution_count": 33,
     "metadata": {},
     "output_type": "execute_result"
    }
   ],
   "source": [
    "bookings_sample.groupby('arr_city').agg({\"pax\": \"sum\"}).sort_values('pax', ascending = False).head(10)"
   ]
  },
  {
   "cell_type": "code",
   "execution_count": 51,
   "metadata": {},
   "outputs": [
    {
     "name": "stdout",
     "output_type": "stream",
     "text": [
      "9999\n"
     ]
    }
   ],
   "source": [
    "chunk = 100000\n",
    "i = 0\n",
    "for x in pd.read_csv('bookings.sample.csv.bz2', sep = '^', chunksize = chunk):\n",
    "    i += len(x)\n",
    "print(i)"
   ]
  },
  {
   "cell_type": "code",
   "execution_count": 62,
   "metadata": {},
   "outputs": [],
   "source": [
    "#empty data frame\n",
    "empty = pd.DataFrame()\n",
    "\n",
    "\n",
    "reader = pd.read_csv('/home/dsc/Data/challenge/bookings.csv.bz2', sep = '^', chunksize = 100000)\n",
    "\n",
    "for j, chunk in enumerate(reader):\n",
    "    pax = chunk[['arr_port', 'pax']].copy()\n",
    "    pax['pax'] = pax['pax'].dropna()\n",
    "    pax_new = pax[['arr_port', 'pax']].groupby(['arr_port']).sum().reset_index()\n",
    "    empty = empty.append(pax_new, ignore_index = True) \n",
    "    \n",
    "    #stop\n",
    "    if j == 3:\n",
    "        break\n",
    "        \n"
   ]
  },
  {
   "cell_type": "code",
   "execution_count": 63,
   "metadata": {},
   "outputs": [
    {
     "data": {
      "text/html": [
       "<div>\n",
       "<style scoped>\n",
       "    .dataframe tbody tr th:only-of-type {\n",
       "        vertical-align: middle;\n",
       "    }\n",
       "\n",
       "    .dataframe tbody tr th {\n",
       "        vertical-align: top;\n",
       "    }\n",
       "\n",
       "    .dataframe thead th {\n",
       "        text-align: right;\n",
       "    }\n",
       "</style>\n",
       "<table border=\"1\" class=\"dataframe\">\n",
       "  <thead>\n",
       "    <tr style=\"text-align: right;\">\n",
       "      <th></th>\n",
       "      <th>pax</th>\n",
       "    </tr>\n",
       "    <tr>\n",
       "      <th>arr_port</th>\n",
       "      <th></th>\n",
       "    </tr>\n",
       "  </thead>\n",
       "  <tbody>\n",
       "    <tr>\n",
       "      <th>LHR</th>\n",
       "      <td>3950</td>\n",
       "    </tr>\n",
       "    <tr>\n",
       "      <th>MCO</th>\n",
       "      <td>3213</td>\n",
       "    </tr>\n",
       "    <tr>\n",
       "      <th>LAX</th>\n",
       "      <td>2969</td>\n",
       "    </tr>\n",
       "    <tr>\n",
       "      <th>LAS</th>\n",
       "      <td>2854</td>\n",
       "    </tr>\n",
       "    <tr>\n",
       "      <th>JFK</th>\n",
       "      <td>2804</td>\n",
       "    </tr>\n",
       "    <tr>\n",
       "      <th>CDG</th>\n",
       "      <td>2795</td>\n",
       "    </tr>\n",
       "    <tr>\n",
       "      <th>MIA</th>\n",
       "      <td>2668</td>\n",
       "    </tr>\n",
       "    <tr>\n",
       "      <th>SFO</th>\n",
       "      <td>2547</td>\n",
       "    </tr>\n",
       "    <tr>\n",
       "      <th>BKK</th>\n",
       "      <td>2539</td>\n",
       "    </tr>\n",
       "    <tr>\n",
       "      <th>DXB</th>\n",
       "      <td>2284</td>\n",
       "    </tr>\n",
       "  </tbody>\n",
       "</table>\n",
       "</div>"
      ],
      "text/plain": [
       "           pax\n",
       "arr_port      \n",
       "LHR       3950\n",
       "MCO       3213\n",
       "LAX       2969\n",
       "LAS       2854\n",
       "JFK       2804\n",
       "CDG       2795\n",
       "MIA       2668\n",
       "SFO       2547\n",
       "BKK       2539\n",
       "DXB       2284"
      ]
     },
     "execution_count": 63,
     "metadata": {},
     "output_type": "execute_result"
    }
   ],
   "source": [
    "top10 = empty[['arr_port', 'pax']].groupby(['arr_port']).sum().sort_values('pax', ascending = False).head(10)\n",
    "top10"
   ]
  },
  {
   "cell_type": "code",
   "execution_count": null,
   "metadata": {},
   "outputs": [],
   "source": []
  },
  {
   "cell_type": "code",
   "execution_count": null,
   "metadata": {},
   "outputs": [],
   "source": []
  },
  {
   "cell_type": "code",
   "execution_count": null,
   "metadata": {},
   "outputs": [],
   "source": []
  },
  {
   "cell_type": "code",
   "execution_count": null,
   "metadata": {},
   "outputs": [],
   "source": []
  }
 ],
 "metadata": {
  "kernelspec": {
   "display_name": "Python 3",
   "language": "python",
   "name": "python3"
  },
  "language_info": {
   "codemirror_mode": {
    "name": "ipython",
    "version": 3
   },
   "file_extension": ".py",
   "mimetype": "text/x-python",
   "name": "python",
   "nbconvert_exporter": "python",
   "pygments_lexer": "ipython3",
   "version": "3.8.5"
  },
  "toc": {
   "base_numbering": 1,
   "nav_menu": {},
   "number_sections": true,
   "sideBar": true,
   "skip_h1_title": false,
   "title_cell": "Table of Contents",
   "title_sidebar": "Contents",
   "toc_cell": false,
   "toc_position": {},
   "toc_section_display": true,
   "toc_window_display": false
  }
 },
 "nbformat": 4,
 "nbformat_minor": 2
}
